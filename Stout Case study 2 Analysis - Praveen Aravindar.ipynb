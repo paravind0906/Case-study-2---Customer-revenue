{
 "cells": [
  {
   "cell_type": "markdown",
   "id": "651887d7",
   "metadata": {},
   "source": [
    "### Case study #2 - Customer Revenue Analysis"
   ]
  },
  {
   "cell_type": "code",
   "execution_count": 56,
   "id": "e254c434",
   "metadata": {},
   "outputs": [],
   "source": [
    "import pandas as pd;\n",
    "import numpy as np;\n",
    "# special IPython command to prepare the notebook for matplotlib\n",
    "%matplotlib inline \n",
    "\n",
    "import matplotlib.pyplot as plt\n",
    "\n",
    "import seaborn as sns\n",
    "sns.set_style(\"whitegrid\")\n",
    "sns.set_context(\"poster\")\n",
    "\n",
    "\n",
    "# special matplotlib argument for improved plots\n",
    "from matplotlib import rcParams\n",
    "rcParams['figure.figsize'] = 6, 8"
   ]
  },
  {
   "cell_type": "code",
   "execution_count": 23,
   "id": "97c0b2c7",
   "metadata": {},
   "outputs": [],
   "source": [
    "data = pd.read_csv(r'/Users/praveen/Downloads/casestudy.csv')"
   ]
  },
  {
   "cell_type": "markdown",
   "id": "0653b8b3",
   "metadata": {},
   "source": [
    "#### Identifying Na Values is important before we proceed for analysis and we found the data had no null values."
   ]
  },
  {
   "cell_type": "code",
   "execution_count": 5,
   "id": "192c28f4",
   "metadata": {},
   "outputs": [
    {
     "data": {
      "text/plain": [
       "Unnamed: 0        False\n",
       "customer_email    False\n",
       "net_revenue       False\n",
       "year              False\n",
       "dtype: bool"
      ]
     },
     "execution_count": 5,
     "metadata": {},
     "output_type": "execute_result"
    }
   ],
   "source": [
    "data.isna().any()"
   ]
  },
  {
   "cell_type": "code",
   "execution_count": 6,
   "id": "55966926",
   "metadata": {},
   "outputs": [],
   "source": [
    "data.rename(columns={'Unnamed: 0':'id'},inplace=True)"
   ]
  },
  {
   "cell_type": "code",
   "execution_count": 7,
   "id": "237034cd",
   "metadata": {},
   "outputs": [
    {
     "data": {
      "text/html": [
       "<div>\n",
       "<style scoped>\n",
       "    .dataframe tbody tr th:only-of-type {\n",
       "        vertical-align: middle;\n",
       "    }\n",
       "\n",
       "    .dataframe tbody tr th {\n",
       "        vertical-align: top;\n",
       "    }\n",
       "\n",
       "    .dataframe thead th {\n",
       "        text-align: right;\n",
       "    }\n",
       "</style>\n",
       "<table border=\"1\" class=\"dataframe\">\n",
       "  <thead>\n",
       "    <tr style=\"text-align: right;\">\n",
       "      <th></th>\n",
       "      <th>id</th>\n",
       "      <th>customer_email</th>\n",
       "      <th>net_revenue</th>\n",
       "      <th>year</th>\n",
       "    </tr>\n",
       "  </thead>\n",
       "  <tbody>\n",
       "    <tr>\n",
       "      <th>0</th>\n",
       "      <td>0</td>\n",
       "      <td>nhknapwsbx@gmail.com</td>\n",
       "      <td>249.92</td>\n",
       "      <td>2015</td>\n",
       "    </tr>\n",
       "    <tr>\n",
       "      <th>1</th>\n",
       "      <td>1</td>\n",
       "      <td>joiuzbvcpn@gmail.com</td>\n",
       "      <td>87.61</td>\n",
       "      <td>2015</td>\n",
       "    </tr>\n",
       "    <tr>\n",
       "      <th>2</th>\n",
       "      <td>2</td>\n",
       "      <td>ukkjctepxt@gmail.com</td>\n",
       "      <td>168.38</td>\n",
       "      <td>2015</td>\n",
       "    </tr>\n",
       "    <tr>\n",
       "      <th>3</th>\n",
       "      <td>3</td>\n",
       "      <td>gykatilzrt@gmail.com</td>\n",
       "      <td>62.40</td>\n",
       "      <td>2015</td>\n",
       "    </tr>\n",
       "    <tr>\n",
       "      <th>4</th>\n",
       "      <td>4</td>\n",
       "      <td>mmsgsrtxah@gmail.com</td>\n",
       "      <td>43.08</td>\n",
       "      <td>2015</td>\n",
       "    </tr>\n",
       "  </tbody>\n",
       "</table>\n",
       "</div>"
      ],
      "text/plain": [
       "   id         customer_email  net_revenue  year\n",
       "0   0   nhknapwsbx@gmail.com       249.92  2015\n",
       "1   1   joiuzbvcpn@gmail.com        87.61  2015\n",
       "2   2   ukkjctepxt@gmail.com       168.38  2015\n",
       "3   3   gykatilzrt@gmail.com        62.40  2015\n",
       "4   4   mmsgsrtxah@gmail.com        43.08  2015"
      ]
     },
     "execution_count": 7,
     "metadata": {},
     "output_type": "execute_result"
    }
   ],
   "source": [
    "data.head()"
   ]
  },
  {
   "cell_type": "markdown",
   "id": "3bfbbd0f",
   "metadata": {},
   "source": [
    "### For each year we need the following information:\n",
    "•\tTotal revenue for the current year\n",
    "\n",
    "•\tNew Customer Revenue e.g. new customers not present in previous year only\n",
    "\n",
    "•\tExisting Customer Growth. To calculate this, use the Revenue of existing customers for current year –(minus) Revenue of existing customers from the previous year\n",
    "\n",
    "•\tRevenue lost from attrition\n",
    "\n",
    "•\tExisting Customer Revenue Current Year\n",
    "\n",
    "•\tExisting Customer Revenue Prior Year\n",
    "\n",
    "•\tTotal Customers Current Year\n",
    "\n",
    "•\tTotal Customers Previous Year\n",
    "\n",
    "•\tNew Customers\n",
    "\n",
    "•\tLost Customers"
   ]
  },
  {
   "cell_type": "code",
   "execution_count": 8,
   "id": "df3dec52",
   "metadata": {},
   "outputs": [
    {
     "data": {
      "text/plain": [
       "(685927, 4)"
      ]
     },
     "execution_count": 8,
     "metadata": {},
     "output_type": "execute_result"
    }
   ],
   "source": [
    "data.shape"
   ]
  },
  {
   "cell_type": "markdown",
   "id": "007536f8",
   "metadata": {},
   "source": [
    "#### The Dataset has 4 columns and 685927 records"
   ]
  },
  {
   "cell_type": "code",
   "execution_count": 9,
   "id": "1e13ecb9",
   "metadata": {},
   "outputs": [
    {
     "data": {
      "text/plain": [
       "2017    249987\n",
       "2015    231294\n",
       "2016    204646\n",
       "Name: year, dtype: int64"
      ]
     },
     "execution_count": 9,
     "metadata": {},
     "output_type": "execute_result"
    }
   ],
   "source": [
    "data[\"year\"].value_counts()"
   ]
  },
  {
   "cell_type": "code",
   "execution_count": 25,
   "id": "dbcb971a",
   "metadata": {},
   "outputs": [],
   "source": [
    "dic = {\"Year\":[],\"Total revenue\":[],\"New customer Revenue\":[],\"Existing customer growth\":[],\"Revenue lost from attrition\":[],\"Existing Customer Revenue Current Year\":[],\n",
    "      \"Existing Customer Revenue Prior Year\":[],\"Total Customers Current Year\":[],\"Total Customers Previous Year\":[],\n",
    "      \"New Customers\":[],\"Lost Customers\":[]}"
   ]
  },
  {
   "cell_type": "markdown",
   "id": "ec7f35a5",
   "metadata": {},
   "source": [
    "The following function \"calc\" applies the calculations on records grouped by year and returns a dictionary with calculated fields"
   ]
  },
  {
   "cell_type": "code",
   "execution_count": 26,
   "id": "46f80093",
   "metadata": {},
   "outputs": [
    {
     "name": "stdout",
     "output_type": "stream",
     "text": [
      "{'Year': [2015, 2016, 2017], 'Total revenue': [29036749.19, 25730943.59, 31417495.03], 'New customer Revenue': [29036749.19, 18245491.01, 28776235.04], 'Existing customer growth': [0.0, 20335.46, 20611.34], 'Revenue lost from attrition': [0.0, 21571632.07, 23110294.94], 'Existing Customer Revenue Current Year': [0.0, 7485452.58, 2641259.99], 'Existing Customer Revenue Prior Year': [0.0, 7465117.12, 2620648.65], 'Total Customers Current Year': [231294, 204646, 249987], 'Total Customers Previous Year': [0, 231294, 204646], 'New Customers': [231294, 145062, 229028], 'Lost Customers': [0, 171710, 183687]}\n"
     ]
    }
   ],
   "source": [
    "def calc(group):\n",
    "    year = group['year'].unique()[0]\n",
    "    y1 = data[data['year']==year]\n",
    "    y2 = data[data['year']==year-1]\n",
    "    set_cust1 = set(y1['customer_email'])\n",
    "    set_cust2 = set(y2['customer_email'])\n",
    "    rev1 = list(y1['net_revenue'])\n",
    "    #year\n",
    "    dic['Year'].append(year)\n",
    "    \n",
    "    # Total revenue\n",
    "    dic['Total revenue'].append(round(sum(rev1),2))\n",
    "    \n",
    "    # New customers Revenue\n",
    "    new_cust=list(set_cust1 - set_cust1.intersection(set_cust2))\n",
    "    new_rev=y1['net_revenue'][y1['customer_email'].isin(new_cust)].sum()\n",
    "    dic['New customer Revenue'].append(round(new_rev,2))\n",
    "    \n",
    "    # Existing customers Revenue Current year\n",
    "    exis_cust=list(set_cust1.intersection(set_cust2))\n",
    "    exi_rev=y1['net_revenue'][y1['customer_email'].isin(exis_cust)].sum()\n",
    "    dic['Existing Customer Revenue Current Year'].append(round(exi_rev,2))\n",
    "    \n",
    "    # Existing customers Revenue Prior Year\n",
    "    exi_rev_pre=y2['net_revenue'][y2['customer_email'].isin(exis_cust)].sum()\n",
    "    dic['Existing Customer Revenue Prior Year'].append(round(exi_rev_pre,2))\n",
    "    \n",
    "    #Existing customer growth\n",
    "    dic['Existing customer growth'].append(round(exi_rev-exi_rev_pre,2))\n",
    "    \n",
    "    # Total Customers Current Year\n",
    "    dic['Total Customers Current Year'].append(len(set_cust1))\n",
    "    \n",
    "    # Total Customers Previous Year\n",
    "    dic['Total Customers Previous Year'].append(len(set_cust2))\n",
    "    \n",
    "    #New customers\n",
    "    new_cust_count = len(set_cust1 - set_cust1.intersection(set_cust2))\n",
    "    dic['New Customers'].append(new_cust_count)\n",
    "    \n",
    "    #Lost customers\n",
    "    cust_cur = list(set_cust1)\n",
    "    lost_cust = y2['customer_email'][~y2['customer_email'].isin(cust_cur)]\n",
    "    dic['Lost Customers'].append(lost_cust.count())\n",
    "    \n",
    "    # Revenue lost from attrition\n",
    "    lost_rev = y2['net_revenue'][y2['customer_email'].isin(lost_cust)].sum()\n",
    "    dic['Revenue lost from attrition'].append(round(lost_rev,2))\n",
    "    \n",
    "    \n",
    "data.groupby('year').apply(calc)\n",
    "print(dic)\n",
    "df=pd.DataFrame.from_dict(dic)"
   ]
  },
  {
   "cell_type": "code",
   "execution_count": 27,
   "id": "37f418df",
   "metadata": {},
   "outputs": [
    {
     "data": {
      "text/html": [
       "<div>\n",
       "<style scoped>\n",
       "    .dataframe tbody tr th:only-of-type {\n",
       "        vertical-align: middle;\n",
       "    }\n",
       "\n",
       "    .dataframe tbody tr th {\n",
       "        vertical-align: top;\n",
       "    }\n",
       "\n",
       "    .dataframe thead th {\n",
       "        text-align: right;\n",
       "    }\n",
       "</style>\n",
       "<table border=\"1\" class=\"dataframe\">\n",
       "  <thead>\n",
       "    <tr style=\"text-align: right;\">\n",
       "      <th></th>\n",
       "      <th>Year</th>\n",
       "      <th>Total revenue</th>\n",
       "      <th>New customer Revenue</th>\n",
       "      <th>Existing customer growth</th>\n",
       "      <th>Revenue lost from attrition</th>\n",
       "      <th>Existing Customer Revenue Current Year</th>\n",
       "      <th>Existing Customer Revenue Prior Year</th>\n",
       "      <th>Total Customers Current Year</th>\n",
       "      <th>Total Customers Previous Year</th>\n",
       "      <th>New Customers</th>\n",
       "      <th>Lost Customers</th>\n",
       "    </tr>\n",
       "  </thead>\n",
       "  <tbody>\n",
       "    <tr>\n",
       "      <th>0</th>\n",
       "      <td>2015</td>\n",
       "      <td>29036749.19</td>\n",
       "      <td>29036749.19</td>\n",
       "      <td>0.00</td>\n",
       "      <td>0.00</td>\n",
       "      <td>0.00</td>\n",
       "      <td>0.00</td>\n",
       "      <td>231294</td>\n",
       "      <td>0</td>\n",
       "      <td>231294</td>\n",
       "      <td>0</td>\n",
       "    </tr>\n",
       "    <tr>\n",
       "      <th>1</th>\n",
       "      <td>2016</td>\n",
       "      <td>25730943.59</td>\n",
       "      <td>18245491.01</td>\n",
       "      <td>20335.46</td>\n",
       "      <td>21571632.07</td>\n",
       "      <td>7485452.58</td>\n",
       "      <td>7465117.12</td>\n",
       "      <td>204646</td>\n",
       "      <td>231294</td>\n",
       "      <td>145062</td>\n",
       "      <td>171710</td>\n",
       "    </tr>\n",
       "    <tr>\n",
       "      <th>2</th>\n",
       "      <td>2017</td>\n",
       "      <td>31417495.03</td>\n",
       "      <td>28776235.04</td>\n",
       "      <td>20611.34</td>\n",
       "      <td>23110294.94</td>\n",
       "      <td>2641259.99</td>\n",
       "      <td>2620648.65</td>\n",
       "      <td>249987</td>\n",
       "      <td>204646</td>\n",
       "      <td>229028</td>\n",
       "      <td>183687</td>\n",
       "    </tr>\n",
       "  </tbody>\n",
       "</table>\n",
       "</div>"
      ],
      "text/plain": [
       "   Year  Total revenue  New customer Revenue  Existing customer growth  \\\n",
       "0  2015    29036749.19           29036749.19                      0.00   \n",
       "1  2016    25730943.59           18245491.01                  20335.46   \n",
       "2  2017    31417495.03           28776235.04                  20611.34   \n",
       "\n",
       "   Revenue lost from attrition  Existing Customer Revenue Current Year  \\\n",
       "0                         0.00                                    0.00   \n",
       "1                  21571632.07                              7485452.58   \n",
       "2                  23110294.94                              2641259.99   \n",
       "\n",
       "   Existing Customer Revenue Prior Year  Total Customers Current Year  \\\n",
       "0                                  0.00                        231294   \n",
       "1                            7465117.12                        204646   \n",
       "2                            2620648.65                        249987   \n",
       "\n",
       "   Total Customers Previous Year  New Customers  Lost Customers  \n",
       "0                              0         231294               0  \n",
       "1                         231294         145062          171710  \n",
       "2                         204646         229028          183687  "
      ]
     },
     "execution_count": 27,
     "metadata": {},
     "output_type": "execute_result"
    }
   ],
   "source": [
    "# Dataframe df stores all the information needed for each year\n",
    "df"
   ]
  },
  {
   "cell_type": "markdown",
   "id": "50784df1",
   "metadata": {},
   "source": [
    "Since the dataset had records from 2015 to 2017, the exisiting customers details were not calculated for year 2015 and indicated as zeroes"
   ]
  },
  {
   "cell_type": "markdown",
   "id": "4af07290",
   "metadata": {},
   "source": [
    "### Data Visualizations"
   ]
  },
  {
   "cell_type": "code",
   "execution_count": 58,
   "id": "baa4d887",
   "metadata": {},
   "outputs": [
    {
     "data": {
      "text/plain": [
       "Text(0.5, 1.0, 'Total revenue by year')"
      ]
     },
     "execution_count": 58,
     "metadata": {},
     "output_type": "execute_result"
    },
    {
     "data": {
      "image/png": "[encoded data removed]",
      "text/plain": [
       "<Figure size 432x576 with 1 Axes>"
      ]
     },
     "metadata": {},
     "output_type": "display_data"
    }
   ],
   "source": [
    "sns.barplot(x=\"Year\",y=\"Total revenue\",data=df)\n",
    "plt.title(\"Total revenue by year\")"
   ]
  },
  {
   "cell_type": "markdown",
   "id": "abb2e111",
   "metadata": {},
   "source": [
    "#### The total revenue have dipped in the year 2016 and have improved significantly in 2017 as seen from above bar plot and that maybe due to the increase in total customers in 2017 which can be noted in the following plot."
   ]
  },
  {
   "cell_type": "code",
   "execution_count": 59,
   "id": "b50f89cb",
   "metadata": {},
   "outputs": [
    {
     "data": {
      "text/plain": [
       "Text(0.5, 1.0, 'Total Customers by year')"
      ]
     },
     "execution_count": 59,
     "metadata": {},
     "output_type": "execute_result"
    },
    {
     "data": {
      "image/png": "[encoded data removed]",
      "text/plain": [
       "<Figure size 432x576 with 1 Axes>"
      ]
     },
     "metadata": {},
     "output_type": "display_data"
    }
   ],
   "source": [
    "sns.barplot(x=\"Year\",y=\"Total Customers Current Year\",data=df,palette='Blues')\n",
    "plt.title(\"Total Customers by year\")"
   ]
  },
  {
   "cell_type": "markdown",
   "id": "195d72b5",
   "metadata": {},
   "source": [
    "#### Average revenue generated per customer stays consistent in every year"
   ]
  },
  {
   "cell_type": "code",
   "execution_count": 44,
   "id": "b945a696",
   "metadata": {},
   "outputs": [
    {
     "data": {
      "text/html": [
       "<div>\n",
       "<style scoped>\n",
       "    .dataframe tbody tr th:only-of-type {\n",
       "        vertical-align: middle;\n",
       "    }\n",
       "\n",
       "    .dataframe tbody tr th {\n",
       "        vertical-align: top;\n",
       "    }\n",
       "\n",
       "    .dataframe thead th {\n",
       "        text-align: right;\n",
       "    }\n",
       "</style>\n",
       "<table border=\"1\" class=\"dataframe\">\n",
       "  <thead>\n",
       "    <tr style=\"text-align: right;\">\n",
       "      <th></th>\n",
       "      <th>Year</th>\n",
       "      <th>Average revenue generated</th>\n",
       "    </tr>\n",
       "  </thead>\n",
       "  <tbody>\n",
       "    <tr>\n",
       "      <th>0</th>\n",
       "      <td>2015</td>\n",
       "      <td>125.540434</td>\n",
       "    </tr>\n",
       "    <tr>\n",
       "      <th>1</th>\n",
       "      <td>2016</td>\n",
       "      <td>125.733919</td>\n",
       "    </tr>\n",
       "    <tr>\n",
       "      <th>2</th>\n",
       "      <td>2017</td>\n",
       "      <td>125.676515</td>\n",
       "    </tr>\n",
       "  </tbody>\n",
       "</table>\n",
       "</div>"
      ],
      "text/plain": [
       "   Year  Average revenue generated\n",
       "0  2015                 125.540434\n",
       "1  2016                 125.733919\n",
       "2  2017                 125.676515"
      ]
     },
     "execution_count": 44,
     "metadata": {},
     "output_type": "execute_result"
    }
   ],
   "source": [
    "df[\"Average revenue generated\"]= df[\"Total revenue\"]/df[\"Total Customers Current Year\"]\n",
    "df[[\"Year\",\"Average revenue generated\"]]"
   ]
  },
  {
   "cell_type": "markdown",
   "id": "9c728a82",
   "metadata": {},
   "source": [
    "#### The stackplot below displays the total customers, new customers gained and lost customers for each year "
   ]
  },
  {
   "cell_type": "code",
   "execution_count": 79,
   "id": "ea9e0f15",
   "metadata": {},
   "outputs": [
    {
     "data": {
      "text/plain": [
       "Text(0, 0.5, 'Customers count')"
      ]
     },
     "execution_count": 79,
     "metadata": {},
     "output_type": "execute_result"
    },
    {
     "data": {
      "image/png": "[encoded data removed]",
      "text/plain": [
       "<Figure size 864x576 with 1 Axes>"
      ]
     },
     "metadata": {},
     "output_type": "display_data"
    }
   ],
   "source": [
    "sns.set_theme()\n",
    "rcParams['figure.figsize'] = 12, 8\n",
    "ax=plt.stackplot(df['Year'], df['Total Customers Current Year'], df['New Customers'],df['Lost Customers'],\n",
    "              labels=['Total', 'New customers','Lost customers'],\n",
    "              colors=[\"green\",\"orange\",\"black\"])\n",
    "#ax.set_xticks(df.Year)\n",
    "labels=['2015', '2016', '2017']\n",
    "plt.xticks(df['Year'], labels)\n",
    "plt.legend(loc='upper left')\n",
    "plt.xlabel(\"Year\")\n",
    "plt.ylabel(\"Customers count\")"
   ]
  },
  {
   "cell_type": "code",
   "execution_count": 77,
   "id": "61970b32",
   "metadata": {},
   "outputs": [
    {
     "data": {
      "text/html": [
       "<div>\n",
       "<style scoped>\n",
       "    .dataframe tbody tr th:only-of-type {\n",
       "        vertical-align: middle;\n",
       "    }\n",
       "\n",
       "    .dataframe tbody tr th {\n",
       "        vertical-align: top;\n",
       "    }\n",
       "\n",
       "    .dataframe thead th {\n",
       "        text-align: right;\n",
       "    }\n",
       "</style>\n",
       "<table border=\"1\" class=\"dataframe\">\n",
       "  <thead>\n",
       "    <tr style=\"text-align: right;\">\n",
       "      <th></th>\n",
       "      <th>Year</th>\n",
       "      <th>Total revenue</th>\n",
       "      <th>New customer Revenue</th>\n",
       "      <th>Existing customer growth</th>\n",
       "      <th>Revenue lost from attrition</th>\n",
       "      <th>Existing Customer Revenue Current Year</th>\n",
       "      <th>Existing Customer Revenue Prior Year</th>\n",
       "      <th>Total Customers Current Year</th>\n",
       "      <th>Total Customers Previous Year</th>\n",
       "      <th>New Customers</th>\n",
       "      <th>Lost Customers</th>\n",
       "      <th>Average revenue generated</th>\n",
       "    </tr>\n",
       "  </thead>\n",
       "  <tbody>\n",
       "    <tr>\n",
       "      <th>0</th>\n",
       "      <td>2015</td>\n",
       "      <td>29036749.19</td>\n",
       "      <td>29036749.19</td>\n",
       "      <td>0.00</td>\n",
       "      <td>0.00</td>\n",
       "      <td>0.00</td>\n",
       "      <td>0.00</td>\n",
       "      <td>231294</td>\n",
       "      <td>0</td>\n",
       "      <td>231294</td>\n",
       "      <td>0</td>\n",
       "      <td>125.540434</td>\n",
       "    </tr>\n",
       "    <tr>\n",
       "      <th>1</th>\n",
       "      <td>2016</td>\n",
       "      <td>25730943.59</td>\n",
       "      <td>18245491.01</td>\n",
       "      <td>20335.46</td>\n",
       "      <td>21571632.07</td>\n",
       "      <td>7485452.58</td>\n",
       "      <td>7465117.12</td>\n",
       "      <td>204646</td>\n",
       "      <td>231294</td>\n",
       "      <td>145062</td>\n",
       "      <td>171710</td>\n",
       "      <td>125.733919</td>\n",
       "    </tr>\n",
       "    <tr>\n",
       "      <th>2</th>\n",
       "      <td>2017</td>\n",
       "      <td>31417495.03</td>\n",
       "      <td>28776235.04</td>\n",
       "      <td>20611.34</td>\n",
       "      <td>23110294.94</td>\n",
       "      <td>2641259.99</td>\n",
       "      <td>2620648.65</td>\n",
       "      <td>249987</td>\n",
       "      <td>204646</td>\n",
       "      <td>229028</td>\n",
       "      <td>183687</td>\n",
       "      <td>125.676515</td>\n",
       "    </tr>\n",
       "  </tbody>\n",
       "</table>\n",
       "</div>"
      ],
      "text/plain": [
       "   Year  Total revenue  New customer Revenue  Existing customer growth  \\\n",
       "0  2015    29036749.19           29036749.19                      0.00   \n",
       "1  2016    25730943.59           18245491.01                  20335.46   \n",
       "2  2017    31417495.03           28776235.04                  20611.34   \n",
       "\n",
       "   Revenue lost from attrition  Existing Customer Revenue Current Year  \\\n",
       "0                         0.00                                    0.00   \n",
       "1                  21571632.07                              7485452.58   \n",
       "2                  23110294.94                              2641259.99   \n",
       "\n",
       "   Existing Customer Revenue Prior Year  Total Customers Current Year  \\\n",
       "0                                  0.00                        231294   \n",
       "1                            7465117.12                        204646   \n",
       "2                            2620648.65                        249987   \n",
       "\n",
       "   Total Customers Previous Year  New Customers  Lost Customers  \\\n",
       "0                              0         231294               0   \n",
       "1                         231294         145062          171710   \n",
       "2                         204646         229028          183687   \n",
       "\n",
       "   Average revenue generated  \n",
       "0                 125.540434  \n",
       "1                 125.733919  \n",
       "2                 125.676515  "
      ]
     },
     "execution_count": 77,
     "metadata": {},
     "output_type": "execute_result"
    }
   ],
   "source": [
    "df"
   ]
  }
 ],
 "metadata": {
  "kernelspec": {
   "display_name": "Python 3",
   "language": "python",
   "name": "python3"
  },
  "language_info": {
   "codemirror_mode": {
    "name": "ipython",
    "version": 3
   },
   "file_extension": ".py",
   "mimetype": "text/x-python",
   "name": "python",
   "nbconvert_exporter": "python",
   "pygments_lexer": "ipython3",
   "version": "3.8.8"
  }
 },
 "nbformat": 4,
 "nbformat_minor": 5
}
